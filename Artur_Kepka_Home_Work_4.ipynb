{
 "cells": [
  {
   "cell_type": "markdown",
   "metadata": {},
   "source": [
    "### Including necessary libs:"
   ]
  },
  {
   "cell_type": "code",
   "execution_count": 311,
   "metadata": {},
   "outputs": [],
   "source": [
    "import matplotlib.pyplot as plt\n",
    "import numpy as np\n",
    "import math\n",
    "from numpy.linalg import inv"
   ]
  },
  {
   "cell_type": "markdown",
   "metadata": {},
   "source": [
    "Importing data:"
   ]
  },
  {
   "cell_type": "code",
   "execution_count": 312,
   "metadata": {},
   "outputs": [],
   "source": [
    "X=np.array([(4,1940),(9,2960),(9,4630),(78,1528),(90,2040),(50,3700),(467,14815),(509,15200),(290,15700),(215,6045)])\n",
    "\n",
    "x1 = np.array(X[:,0])\n",
    "x2 = np.array(X[:,1])\n",
    "\n",
    "train_data = np.array(X)\n",
    "max_values = train_data.max(0)\n",
    "\n",
    "X_norm = np.divide(train_data,max_values)\n",
    "\n",
    "\n",
    "data_set=X_norm\n",
    "groups = 2\n",
    "space=[[0,1],[0,1]]\n",
    "\n",
    "error_margin = 0.01\n",
    "m = 2.0\n",
    "\n",
    "assignation=np.zeros((len(X),groups))\n",
    "\n",
    "import random\n",
    "\n",
    "centers = []\n",
    "\n",
    "pdm = []\n",
    "\n",
    "def select_centers():\n",
    "    global centers\n",
    "    global groups\n",
    "    global space\n",
    "    iter=0\n",
    "    while iter<groups:\n",
    "        centers.append((random.uniform(space[0][0],space[0][1]), \n",
    "                        random.uniform(space[1][0],space[1][1])))\n",
    "        iter=iter+1\n",
    "        \n",
    "select_centers()"
   ]
  },
  {
   "cell_type": "markdown",
   "metadata": {},
   "source": [
    "Covariance matrix:"
   ]
  },
  {
   "cell_type": "code",
   "execution_count": 313,
   "metadata": {},
   "outputs": [
    {
     "name": "stdout",
     "output_type": "stream",
     "text": [
      "[[0.1407423  0.1289333 ]\n",
      " [0.1289333  0.14320383]]\n"
     ]
    }
   ],
   "source": [
    "cx1 = np.array(X_norm[:,0])\n",
    "\n",
    "cx2 = np.array(X_norm[:,1])\n",
    "\n",
    "R = np.cov(cx1, cx2)\n",
    "\n",
    "print(R)\n",
    "\n",
    "invR = inv(R)"
   ]
  },
  {
   "cell_type": "markdown",
   "metadata": {},
   "source": [
    "## Possibilistic k-means (PCM) \n",
    "\n",
    "First, we need to implement the Mahalanobis distance function:"
   ]
  },
  {
   "cell_type": "code",
   "execution_count": 314,
   "metadata": {},
   "outputs": [],
   "source": [
    "def mahalanobis_distance(x,v):\n",
    "    return math.sqrt( ((x - v).dot(invR)).dot( (x-v).T ) )"
   ]
  },
  {
   "cell_type": "markdown",
   "metadata": {},
   "source": [
    "To calculate possibilistic distribution measure, a starting u is necessary:"
   ]
  },
  {
   "cell_type": "code",
   "execution_count": 315,
   "metadata": {},
   "outputs": [],
   "source": [
    "def calculate_entry_u(x,i):\n",
    "    global centers\n",
    "    if i == 0:\n",
    "        sum = 1.0 + ( mahalanobis_distance(x, centers[0])/mahalanobis_distance(x, centers[1]) )**2\n",
    "    else:\n",
    "        sum = 1.0 + ( mahalanobis_distance(x, centers[1])/mahalanobis_distance(x, centers[0]) )**2\n",
    "    return sum**-1\n",
    "\n",
    "global centers\n",
    "\n",
    "global entry_u\n",
    "\n",
    "entry_u = []\n",
    "\n",
    "for i in range(len(data_set)):\n",
    "    entry_u_vector = []\n",
    "    for k in range(groups):\n",
    "        entry_u_vector.append(calculate_entry_u(data_set[i],k))\n",
    "    entry_u.append(entry_u_vector)       "
   ]
  },
  {
   "cell_type": "markdown",
   "metadata": {},
   "source": [
    "Update of centers is also necessary:"
   ]
  },
  {
   "cell_type": "code",
   "execution_count": 316,
   "metadata": {},
   "outputs": [],
   "source": [
    "calculate_new_centers( entry_u )\n",
    "\n",
    "assignation = entry_u"
   ]
  },
  {
   "cell_type": "markdown",
   "metadata": {},
   "source": [
    "Posibilistic distibution measure:"
   ]
  },
  {
   "cell_type": "code",
   "execution_count": 317,
   "metadata": {},
   "outputs": [],
   "source": [
    "def calc_pdm(x,u):\n",
    "    global pdm\n",
    "    global centers\n",
    "    new_pdm = []\n",
    "    for c in range(groups):\n",
    "        u_scalar = 0.0\n",
    "        u_scalar_2 = 0.0\n",
    "        for i in range(len(data_set)):\n",
    "            u_scalar = u_scalar + ( u[i][c]**m )*( mahalanobis_distance(x, centers[c]))**2\n",
    "            u_scalar_2 = u_scalar_2 + ( u[i][c]**m )\n",
    "        new_pdm.append(np.divide(u_scalar, u_scalar_2))\n",
    "    pdm = new_pdm\n",
    "    return pdm"
   ]
  },
  {
   "cell_type": "markdown",
   "metadata": {},
   "source": [
    "The next step is to calculate the new assignation matrix:"
   ]
  },
  {
   "cell_type": "code",
   "execution_count": 318,
   "metadata": {},
   "outputs": [],
   "source": [
    "def calculate_u(x,i):\n",
    "    global centers\n",
    "    uik = []\n",
    "    if i == 0:\n",
    "        uik = 1.0 + ( mahalanobis_distance(x, centers[0])/calc_pdm(x,entry_u)[1] )**2 \n",
    "    else:\n",
    "        uik = 1.0 + ( mahalanobis_distance(x, centers[1])/calc_pdm(x,entry_u)[0] )**2\n",
    "    return uik**-1"
   ]
  },
  {
   "cell_type": "markdown",
   "metadata": {},
   "source": [
    "After this, new centers has to be calculated: "
   ]
  },
  {
   "cell_type": "code",
   "execution_count": 319,
   "metadata": {},
   "outputs": [],
   "source": [
    "def calculate_new_centers(u):\n",
    "    global centers\n",
    "    new_centers = []\n",
    "    for c in range(groups):\n",
    "        u_x_vector = np.zeros(2)\n",
    "        u_scalar = 0.0\n",
    "        for i in range(len(data_set)):\n",
    "            u_scalar = u_scalar+(u[i][c]**m)\n",
    "            u_x_vector = np.add( u_x_vector,np.multiply(u[i][c]**m,data_set[i]) )\n",
    "        new_centers.append( np.divide(u_x_vector,u_scalar) )\n",
    "    centers=new_centers"
   ]
  },
  {
   "cell_type": "markdown",
   "metadata": {},
   "source": [
    "Set the rule to stop the loop:"
   ]
  },
  {
   "cell_type": "code",
   "execution_count": 320,
   "metadata": {},
   "outputs": [],
   "source": [
    "def calculate_differences(new_assignation):\n",
    "    global assignation    \n",
    "    return np.sum(np.abs(np.subtract(assignation,new_assignation)))"
   ]
  },
  {
   "cell_type": "markdown",
   "metadata": {},
   "source": [
    "All together:"
   ]
  },
  {
   "cell_type": "code",
   "execution_count": 321,
   "metadata": {},
   "outputs": [],
   "source": [
    "def cluster():\n",
    "    global assignation    \n",
    "    global error_margin    \n",
    "    global groups\n",
    "    difference_limit_not_achieved=True\n",
    "    iter=0\n",
    "    while difference_limit_not_achieved:\n",
    "        new_assignation=[]\n",
    "        for i in range(len(data_set)):\n",
    "            new_assignation_vector=[]\n",
    "            for k in range(groups):\n",
    "                new_assignation_vector.append(calculate_u(data_set[i],k))\n",
    "            new_assignation.append(new_assignation_vector)\n",
    "        calculate_new_centers(new_assignation)\n",
    "\n",
    "        if iter>0:\n",
    "            if calculate_differences(new_assignation) < error_margin:\n",
    "                difference_limit_not_achieved=False\n",
    "        assignation=new_assignation\n",
    "        iter=iter+1"
   ]
  },
  {
   "cell_type": "markdown",
   "metadata": {},
   "source": [
    "Testing:"
   ]
  },
  {
   "cell_type": "code",
   "execution_count": 322,
   "metadata": {},
   "outputs": [
    {
     "data": {
      "image/png": "[encoded data removed]",
      "text/plain": [
       "<matplotlib.figure.Figure at 0x7f276a9a5240>"
      ]
     },
     "metadata": {},
     "output_type": "display_data"
    }
   ],
   "source": [
    "cluster()\n",
    "\n",
    "red = X_norm[np.where(np.array(assignation)[:,0] > 0.5)]\n",
    "\n",
    "blue = X_norm[np.where(np.array(assignation)[:,1] > 0.5)]\n",
    "\n",
    "fig, ax = plt.subplots()\n",
    "\n",
    "ax.scatter(blue[:,0],blue[:,1],c='red')\n",
    "\n",
    "ax.scatter(red[:,0],red[:,1],c='blue')\n",
    "\n",
    "ax.scatter(np.array(centers)[:,0],np.array(centers)[:,1],c='black')\n",
    "\n",
    "ax.set(xlabel='Seats count', ylabel='Distance range (km)',\n",
    "       title='Aircrafts (clusters)')\n",
    "\n",
    "ax.grid()\n",
    "\n",
    "plt.show()"
   ]
  },
  {
   "cell_type": "markdown",
   "metadata": {},
   "source": [
    "In conclusion, the alhorith managed to categorize given data set into two groups. One problematic point is (~0.6, 1.0), which sometimes gets assigned into red group, and other times gets assigned into the blue one. "
   ]
  }
 ],
 "metadata": {
  "kernelspec": {
   "display_name": "Python 3",
   "language": "python",
   "name": "python3"
  },
  "language_info": {
   "codemirror_mode": {
    "name": "ipython",
    "version": 3
   },
   "file_extension": ".py",
   "mimetype": "text/x-python",
   "name": "python",
   "nbconvert_exporter": "python",
   "pygments_lexer": "ipython3",
   "version": "3.6.4"
  }
 },
 "nbformat": 4,
 "nbformat_minor": 2
}
